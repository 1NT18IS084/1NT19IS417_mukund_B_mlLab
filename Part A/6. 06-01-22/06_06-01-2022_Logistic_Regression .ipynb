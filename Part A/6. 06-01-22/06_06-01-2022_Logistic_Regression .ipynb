{
 "cells": [
  {
   "cell_type": "markdown",
   "id": "83bdd01a",
   "metadata": {},
   "source": [
    "# Logistic Regression"
   ]
  },
  {
   "cell_type": "code",
   "execution_count": 1,
   "id": "4bdc1ed5",
   "metadata": {},
   "outputs": [],
   "source": [
    "import pandas as pd\n",
    "import numpy as np\n",
    "from scipy.special import expit\n",
    "from matplotlib import pyplot as plt"
   ]
  },
  {
   "cell_type": "code",
   "execution_count": 2,
   "id": "d2de2852",
   "metadata": {},
   "outputs": [],
   "source": [
    "ds = pd.read_csv(\"Student-University.csv\", header = None)"
   ]
  },
  {
   "cell_type": "code",
   "execution_count": 3,
   "id": "65608aca",
   "metadata": {},
   "outputs": [
    {
     "data": {
      "text/html": [
       "<div>\n",
       "<style scoped>\n",
       "    .dataframe tbody tr th:only-of-type {\n",
       "        vertical-align: middle;\n",
       "    }\n",
       "\n",
       "    .dataframe tbody tr th {\n",
       "        vertical-align: top;\n",
       "    }\n",
       "\n",
       "    .dataframe thead th {\n",
       "        text-align: right;\n",
       "    }\n",
       "</style>\n",
       "<table border=\"1\" class=\"dataframe\">\n",
       "  <thead>\n",
       "    <tr style=\"text-align: right;\">\n",
       "      <th></th>\n",
       "      <th>0</th>\n",
       "      <th>1</th>\n",
       "      <th>2</th>\n",
       "    </tr>\n",
       "  </thead>\n",
       "  <tbody>\n",
       "    <tr>\n",
       "      <th>0</th>\n",
       "      <td>34.623660</td>\n",
       "      <td>78.024693</td>\n",
       "      <td>0</td>\n",
       "    </tr>\n",
       "    <tr>\n",
       "      <th>1</th>\n",
       "      <td>30.286711</td>\n",
       "      <td>43.894998</td>\n",
       "      <td>0</td>\n",
       "    </tr>\n",
       "    <tr>\n",
       "      <th>2</th>\n",
       "      <td>35.847409</td>\n",
       "      <td>72.902198</td>\n",
       "      <td>0</td>\n",
       "    </tr>\n",
       "    <tr>\n",
       "      <th>3</th>\n",
       "      <td>60.182599</td>\n",
       "      <td>86.308552</td>\n",
       "      <td>1</td>\n",
       "    </tr>\n",
       "    <tr>\n",
       "      <th>4</th>\n",
       "      <td>79.032736</td>\n",
       "      <td>75.344376</td>\n",
       "      <td>1</td>\n",
       "    </tr>\n",
       "  </tbody>\n",
       "</table>\n",
       "</div>"
      ],
      "text/plain": [
       "           0          1  2\n",
       "0  34.623660  78.024693  0\n",
       "1  30.286711  43.894998  0\n",
       "2  35.847409  72.902198  0\n",
       "3  60.182599  86.308552  1\n",
       "4  79.032736  75.344376  1"
      ]
     },
     "execution_count": 3,
     "metadata": {},
     "output_type": "execute_result"
    }
   ],
   "source": [
    "ds.head()"
   ]
  },
  {
   "cell_type": "markdown",
   "id": "4498d965",
   "metadata": {},
   "source": [
    "## Min-Max Normalization"
   ]
  },
  {
   "cell_type": "code",
   "execution_count": 4,
   "id": "302cfda7",
   "metadata": {},
   "outputs": [],
   "source": [
    "X = ds.iloc[:,0:2]\n",
    "Y = list(ds[2])\n",
    "\n",
    "for i in range(len(X)):\n",
    "    X[0] = (X[0] - X[0].min())/(X[0].max() - X[0].min())\n",
    "    X[1] = (X[1] - X[1].min())/(X[1].max() - X[1].min())"
   ]
  },
  {
   "cell_type": "code",
   "execution_count": 5,
   "id": "7cdd42da",
   "metadata": {},
   "outputs": [
    {
     "data": {
      "text/html": [
       "<div>\n",
       "<style scoped>\n",
       "    .dataframe tbody tr th:only-of-type {\n",
       "        vertical-align: middle;\n",
       "    }\n",
       "\n",
       "    .dataframe tbody tr th {\n",
       "        vertical-align: top;\n",
       "    }\n",
       "\n",
       "    .dataframe thead th {\n",
       "        text-align: right;\n",
       "    }\n",
       "</style>\n",
       "<table border=\"1\" class=\"dataframe\">\n",
       "  <thead>\n",
       "    <tr style=\"text-align: right;\">\n",
       "      <th></th>\n",
       "      <th>0</th>\n",
       "      <th>1</th>\n",
       "    </tr>\n",
       "  </thead>\n",
       "  <tbody>\n",
       "    <tr>\n",
       "      <th>0</th>\n",
       "      <td>0.065428</td>\n",
       "      <td>0.694655</td>\n",
       "    </tr>\n",
       "    <tr>\n",
       "      <th>1</th>\n",
       "      <td>0.003266</td>\n",
       "      <td>0.194705</td>\n",
       "    </tr>\n",
       "    <tr>\n",
       "      <th>2</th>\n",
       "      <td>0.082968</td>\n",
       "      <td>0.619618</td>\n",
       "    </tr>\n",
       "    <tr>\n",
       "      <th>3</th>\n",
       "      <td>0.431764</td>\n",
       "      <td>0.816001</td>\n",
       "    </tr>\n",
       "    <tr>\n",
       "      <th>4</th>\n",
       "      <td>0.701943</td>\n",
       "      <td>0.655392</td>\n",
       "    </tr>\n",
       "  </tbody>\n",
       "</table>\n",
       "</div>"
      ],
      "text/plain": [
       "          0         1\n",
       "0  0.065428  0.694655\n",
       "1  0.003266  0.194705\n",
       "2  0.082968  0.619618\n",
       "3  0.431764  0.816001\n",
       "4  0.701943  0.655392"
      ]
     },
     "execution_count": 5,
     "metadata": {},
     "output_type": "execute_result"
    }
   ],
   "source": [
    "X.head()"
   ]
  },
  {
   "cell_type": "markdown",
   "id": "f028aed9",
   "metadata": {},
   "source": [
    "## Splitting Data for Training "
   ]
  },
  {
   "cell_type": "code",
   "execution_count": 6,
   "id": "c32b0d07",
   "metadata": {},
   "outputs": [],
   "source": [
    "from sklearn.model_selection import train_test_split\n",
    "\n",
    "x_training , x_testing ,y_training, y_testing = train_test_split(X,Y, test_size = 0.2, random_state = 111)"
   ]
  },
  {
   "cell_type": "code",
   "execution_count": 7,
   "id": "9fce21da",
   "metadata": {},
   "outputs": [],
   "source": [
    "x1 = list(x_training[0])\n",
    "x1_testing =list(x_testing[0])\n",
    "x2 = list(x_training[1])\n",
    "x2_testing =list(x_testing[1])"
   ]
  },
  {
   "cell_type": "code",
   "execution_count": 8,
   "id": "94f35eb9",
   "metadata": {},
   "outputs": [],
   "source": [
    "b =[1,0.4,0.4]\n",
    "l_rate = 0.3\n",
    "e =2.71828"
   ]
  },
  {
   "cell_type": "code",
   "execution_count": 9,
   "id": "118cd112",
   "metadata": {},
   "outputs": [],
   "source": [
    "n=len(x1)"
   ]
  },
  {
   "cell_type": "markdown",
   "id": "802f9bf9",
   "metadata": {},
   "source": [
    "## Calculating the gradient Descent "
   ]
  },
  {
   "cell_type": "code",
   "execution_count": 10,
   "id": "ce5860e7",
   "metadata": {},
   "outputs": [],
   "source": [
    "def grad_desc(b):\n",
    "    p = []\n",
    "    x = []\n",
    "    a = 0\n",
    "    for i in range(n):\n",
    "        x.append(b[0] + b[1] * x1[i] + b[2] * x2[i])\n",
    "    for i in range(n):\n",
    "        p.append( 1 / ( 1 + ( e ** ( -1 * x[i] ) ) ) )\n",
    "\n",
    "    for j in range(3):\n",
    "        for i in range(n):\n",
    "            a = l_rate * (y_training[i] - p[i]) * (p[i]) * (1 - p[i])\n",
    "            if(j == 1):\n",
    "                a *= x1[i]\n",
    "            if(j == 2):\n",
    "                a *= x2[i]\n",
    "            b[j] += a \n",
    "\n",
    "    return b"
   ]
  },
  {
   "cell_type": "code",
   "execution_count": 11,
   "id": "91977564",
   "metadata": {},
   "outputs": [],
   "source": [
    "for i in range(5):\n",
    "    b = grad_desc(b)"
   ]
  },
  {
   "cell_type": "markdown",
   "id": "a7f4191e",
   "metadata": {},
   "source": [
    "## Finding the Pred values for the Test set "
   ]
  },
  {
   "cell_type": "code",
   "execution_count": 12,
   "id": "322361d0",
   "metadata": {},
   "outputs": [],
   "source": [
    "x = []\n",
    "pred = []\n",
    "nt = len(x_testing)\n",
    "\n",
    "for i in range(nt):\n",
    "    x.append(b[0] + b[1] * x1_testing[i] + b[2] * x2_testing[i])\n",
    "for i in range(nt):\n",
    "    pred.append( 1 / ( 1 + ( e ** ( -1 * x[i] ) ) ) )\n",
    "    \n",
    "for i in range(nt):\n",
    "    if (pred[i] > 0.5):\n",
    "        pred[i] = 1\n",
    "    else:\n",
    "        pred[i] = 0\n"
   ]
  },
  {
   "cell_type": "markdown",
   "id": "6d14f519",
   "metadata": {},
   "source": [
    "## To check if the Classification is Efficient "
   ]
  },
  {
   "cell_type": "code",
   "execution_count": 13,
   "id": "63e98289",
   "metadata": {},
   "outputs": [
    {
     "name": "stdout",
     "output_type": "stream",
     "text": [
      "[[ 9  1]\n",
      " [ 0 10]]\n",
      "              precision    recall  f1-score   support\n",
      "\n",
      "           0       1.00      0.90      0.95        10\n",
      "           1       0.91      1.00      0.95        10\n",
      "\n",
      "    accuracy                           0.95        20\n",
      "   macro avg       0.95      0.95      0.95        20\n",
      "weighted avg       0.95      0.95      0.95        20\n",
      "\n"
     ]
    }
   ],
   "source": [
    "from sklearn.metrics import classification_report, confusion_matrix\n",
    "print(confusion_matrix(y_testing,pred))\n",
    "print(classification_report(y_testing,pred))"
   ]
  }
 ],
 "metadata": {
  "kernelspec": {
   "display_name": "Python 3 (ipykernel)",
   "language": "python",
   "name": "python3"
  },
  "language_info": {
   "codemirror_mode": {
    "name": "ipython",
    "version": 3
   },
   "file_extension": ".py",
   "mimetype": "text/x-python",
   "name": "python",
   "nbconvert_exporter": "python",
   "pygments_lexer": "ipython3",
   "version": "3.9.7"
  }
 },
 "nbformat": 4,
 "nbformat_minor": 5
}
