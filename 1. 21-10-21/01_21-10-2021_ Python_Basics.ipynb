{
 "cells": [
  {
   "cell_type": "markdown",
   "metadata": {},
   "source": [
    "#  Python Basics 21-10-21"
   ]
  },
  {
   "cell_type": "markdown",
   "metadata": {},
   "source": [
    "## Concatination"
   ]
  },
  {
   "cell_type": "code",
   "execution_count": 4,
   "metadata": {},
   "outputs": [
    {
     "data": {
      "text/plain": [
       "[3, 7, 11, 15, 19]"
      ]
     },
     "execution_count": 4,
     "metadata": {},
     "output_type": "execute_result"
    }
   ],
   "source": [
    "# How to add two Lists \n",
    "\n",
    "t1 =[1,3,5,7,9]\n",
    "t2 =[2,4,6,8,10]\n",
    "t3 =[]\n",
    "for i in range(0,len(t2)):\n",
    "    t3.append(t1[i]+t2[i])\n",
    "t3\n"
   ]
  },
  {
   "cell_type": "markdown",
   "metadata": {},
   "source": [
    "## Simple Calculator"
   ]
  },
  {
   "cell_type": "code",
   "execution_count": 5,
   "metadata": {},
   "outputs": [
    {
     "name": "stdout",
     "output_type": "stream",
     "text": [
      "Select Choice:\n",
      "1.Add\n",
      "2.Subtract\n",
      "3.Multiply\n",
      "4.Divide\n",
      "47.0\n"
     ]
    }
   ],
   "source": [
    "\n",
    "def add(x,y):\n",
    "    return x + y\n",
    "def subtract(x,y):\n",
    "    return x - y\n",
    "def multiply(x,y):\n",
    "    return x * y\n",
    "def divide(x,y):\n",
    "    return x / y\n",
    "\n",
    "print(\"Select Choice:\")\n",
    "print(\"1.Add\")\n",
    "print(\"2.Subtract\")\n",
    "print(\"3.Multiply\")\n",
    "print(\"4.Divide\")\n",
    "\n",
    "choice = input(\"Enter the Choice:-\")\n",
    "\n",
    "number1=float(input(\"Enter the First Number:-\"))\n",
    "number2=float(input(\"Enter the Second Number:-\"))\n",
    "    \n",
    "if choice == '1':\n",
    "    print(add(number1,number2))\n",
    "elif choice == '2':\n",
    "    print(subtract(number1,number2))\n",
    "elif choice == '3':\n",
    "    print(multiply(number1,number2))\n",
    "elif choice == '4':\n",
    "    print(divide(number1,number2))\n",
    "\n",
    "else:\n",
    "    print(\"Invalid Input\")"
   ]
  },
  {
   "cell_type": "markdown",
   "metadata": {},
   "source": [
    "## Bubble sort "
   ]
  },
  {
   "cell_type": "code",
   "execution_count": 3,
   "metadata": {},
   "outputs": [
    {
     "data": {
      "text/plain": [
       "[1, 2, 10, 11, 13, 15, 20]"
      ]
     },
     "execution_count": 3,
     "metadata": {},
     "output_type": "execute_result"
    }
   ],
   "source": [
    "l=[15,10,11,1,13,2,20]\n",
    "\n",
    "for i in range(0,len(l)):\n",
    "    for j in range(i,len(l)):\n",
    "        if l[i]>l[j]:\n",
    "            l[i]=l[i]+l[j]\n",
    "            l[j]=l[i]-l[j]\n",
    "            l[i]=l[i]-l[j]\n",
    "l"
   ]
  },
  {
   "cell_type": "markdown",
   "metadata": {},
   "source": [
    "# Mean, Median, Mode "
   ]
  },
  {
   "cell_type": "code",
   "execution_count": 4,
   "metadata": {},
   "outputs": [
    {
     "name": "stdout",
     "output_type": "stream",
     "text": [
      "6.375\n"
     ]
    }
   ],
   "source": [
    "# Mean\n",
    "\n",
    "Data =[2,4,5,6,7,8,9,10]\n",
    "def mean(dataset):\n",
    "    return sum(dataset)/len(dataset)\n",
    "print (mean(Data))"
   ]
  },
  {
   "cell_type": "code",
   "execution_count": 9,
   "metadata": {},
   "outputs": [
    {
     "name": "stdout",
     "output_type": "stream",
     "text": [
      "125.0\n"
     ]
    }
   ],
   "source": [
    "# Median\n",
    "\n",
    "Datasequence =[100,200,110,130,160,120]\n",
    "\n",
    "def median(dataset):\n",
    "    data = sorted(dataset)\n",
    "    index = len(data) // 2\n",
    "    \n",
    "    if len(dataset) % 2 != 0:\n",
    "        return data[index]\n",
    "    \n",
    "    return (data[index - 1] + data[index]) / 2\n",
    "print (median(Datasequence))"
   ]
  },
  {
   "cell_type": "code",
   "execution_count": 2,
   "metadata": {},
   "outputs": [
    {
     "name": "stdout",
     "output_type": "stream",
     "text": [
      "[12]\n"
     ]
    }
   ],
   "source": [
    "# Mode \n",
    "\n",
    "Dataseq =[10,20,11,13,12,12]\n",
    "def mode(dataset):\n",
    "    frequency = {}\n",
    "\n",
    "    for value in dataset:\n",
    "        frequency[value] = frequency.get(value, 0) + 1\n",
    "\n",
    "    most_fre = max(frequency.values())\n",
    "\n",
    "    modes = [key for key, value in frequency.items()\n",
    "                      if value == most_fre]\n",
    "\n",
    "    return modes\n",
    "print (mode(Dataseq))"
   ]
  },
  {
   "cell_type": "markdown",
   "metadata": {},
   "source": [
    "# Standard Deviation"
   ]
  },
  {
   "cell_type": "code",
   "execution_count": 14,
   "metadata": {},
   "outputs": [
    {
     "data": {
      "text/plain": [
       "11.374873849939647"
      ]
     },
     "execution_count": 14,
     "metadata": {},
     "output_type": "execute_result"
    }
   ],
   "source": [
    "def Std_dev(list):\n",
    "    n = len(list)\n",
    "    mean = sum(list) / n\n",
    "    var = sum((x - mean)**2 for x in list) / n\n",
    "    std_dev = var ** 0.5\n",
    "    return std_dev\n",
    "\n",
    "list = [25,24,12,10,11,23,45]\n",
    "Std_dev(list)\n",
    "\n"
   ]
  },
  {
   "cell_type": "markdown",
   "metadata": {},
   "source": [
    "## Doing Standard Deviation Using Libraries "
   ]
  },
  {
   "cell_type": "code",
   "execution_count": 15,
   "metadata": {},
   "outputs": [],
   "source": [
    "import numpy as np"
   ]
  },
  {
   "cell_type": "code",
   "execution_count": 16,
   "metadata": {},
   "outputs": [
    {
     "data": {
      "text/plain": [
       "11.374873849939647"
      ]
     },
     "execution_count": 16,
     "metadata": {},
     "output_type": "execute_result"
    }
   ],
   "source": [
    "np.std(list)"
   ]
  }
 ],
 "metadata": {
  "interpreter": {
   "hash": "f23faf4bfe871c203c8bec80520af5927fc7cb1ae3bd834ddf554ee587ad1c05"
  },
  "kernelspec": {
   "display_name": "Python 3.8.3 64-bit",
   "name": "python3"
  },
  "language_info": {
   "codemirror_mode": {
    "name": "ipython",
    "version": 3
   },
   "file_extension": ".py",
   "mimetype": "text/x-python",
   "name": "python",
   "nbconvert_exporter": "python",
   "pygments_lexer": "ipython3",
   "version": "3.8.3"
  }
 },
 "nbformat": 4,
 "nbformat_minor": 4
}
